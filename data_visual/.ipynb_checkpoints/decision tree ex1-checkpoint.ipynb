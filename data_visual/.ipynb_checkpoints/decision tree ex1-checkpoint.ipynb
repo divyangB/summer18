{
 "cells": [
  {
   "cell_type": "code",
   "execution_count": 1,
   "metadata": {},
   "outputs": [
    {
     "ename": "SyntaxError",
     "evalue": "invalid syntax (<ipython-input-1-5d3f1ee535e6>, line 6)",
     "output_type": "error",
     "traceback": [
      "\u001b[0;36m  File \u001b[0;32m\"<ipython-input-1-5d3f1ee535e6>\"\u001b[0;36m, line \u001b[0;32m6\u001b[0m\n\u001b[0;31m    output=[\"Apple,\"Apple\",\"Orange\",\"Orange\"]\u001b[0m\n\u001b[0m                        ^\u001b[0m\n\u001b[0;31mSyntaxError\u001b[0m\u001b[0;31m:\u001b[0m invalid syntax\n"
     ]
    }
   ],
   "source": [
    "from sklearn import tree\n",
    "\n",
    "#smooth=0, bumpy=1\n",
    "\n",
    "features=[[110,0],[120,0],[130,1],[130,1]]\n",
    "output=['Apple', 'Apple','Orange','Orange']\n",
    "\n",
    "        #using algo\n",
    "        \n",
    "algo= tree.DecisionTreeClassifier\n",
    "        \n",
    "#training feature and output set\n",
    "trained= algo.fit(features,output)\n",
    "\n",
    "#testing trained model\n",
    "\n",
    "result= trained.predict([[130,0]])\n",
    "print(result)"
   ]
  },
  {
   "cell_type": "code",
   "execution_count": null,
   "metadata": {},
   "outputs": [],
   "source": [
    "1\n"
   ]
  }
 ],
 "metadata": {
  "kernelspec": {
   "display_name": "Python 3",
   "language": "python",
   "name": "python3"
  },
  "language_info": {
   "codemirror_mode": {
    "name": "ipython",
    "version": 3
   },
   "file_extension": ".py",
   "mimetype": "text/x-python",
   "name": "python",
   "nbconvert_exporter": "python",
   "pygments_lexer": "ipython3",
   "version": "3.5.2"
  }
 },
 "nbformat": 4,
 "nbformat_minor": 2
}
