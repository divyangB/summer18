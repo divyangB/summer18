{
 "cells": [
  {
   "cell_type": "code",
   "execution_count": 1,
   "metadata": {},
   "outputs": [
    {
     "name": "stdout",
     "output_type": "stream",
     "text": [
      "float64\n",
      "[[3. 4. 5.]\n",
      " [4. 5. 6.]]\n"
     ]
    },
    {
     "data": {
      "text/plain": [
       "[<matplotlib.lines.Line2D at 0x7f66c7566eb8>]"
      ]
     },
     "execution_count": 1,
     "metadata": {},
     "output_type": "execute_result"
    }
   ],
   "source": [
    "import numpy as np\n",
    "\n",
    "#creation of numpy array\n",
    "arr1= np.array([[3,4,5],[4,5,6]],dtype='float64')\n",
    "arr1\n",
    "arr2= np.arange(14.0).reshape(2,7)\n",
    "arr2\n",
    "\n",
    "arr1,arr2\n",
    "\n",
    "#basic functions\n",
    "shape1= arr1.shape\n",
    "shape2= arr2.shape\n",
    "shape2\n",
    "\n",
    "a= arr2.dtype\n",
    "print (a)\n",
    "print (arr1)\n",
    "\n",
    "\n",
    "from numpy import pi\n",
    "x=np.linspace(0,2*pi,100)  #100 vlues between 0 to 2*pi\n",
    "f=np.sin(x)\n",
    "\n",
    "import matplotlib.pyplot as plt\n",
    "\n",
    "plt.plot(f)\n",
    "\n",
    "\n"
   ]
  },
  {
   "cell_type": "code",
   "execution_count": null,
   "metadata": {},
   "outputs": [],
   "source": []
  },
  {
   "cell_type": "code",
   "execution_count": null,
   "metadata": {},
   "outputs": [],
   "source": []
  }
 ],
 "metadata": {
  "kernelspec": {
   "display_name": "Python 3",
   "language": "python",
   "name": "python3"
  },
  "language_info": {
   "codemirror_mode": {
    "name": "ipython",
    "version": 3
   },
   "file_extension": ".py",
   "mimetype": "text/x-python",
   "name": "python",
   "nbconvert_exporter": "python",
   "pygments_lexer": "ipython3",
   "version": "3.5.2"
  }
 },
 "nbformat": 4,
 "nbformat_minor": 2
}
